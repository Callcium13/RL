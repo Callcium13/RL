{
 "cells": [
  {
   "cell_type": "code",
   "execution_count": 11,
   "id": "3cea4b90",
   "metadata": {},
   "outputs": [],
   "source": [
    "import gym\n",
    "import minihack_env\n",
    "import commons"
   ]
  },
  {
   "cell_type": "code",
   "execution_count": 10,
   "id": "f9862c99",
   "metadata": {},
   "outputs": [
    {
     "ename": "SyntaxError",
     "evalue": "invalid syntax (3702174641.py, line 3)",
     "output_type": "error",
     "traceback": [
      "\u001b[0;36m  Cell \u001b[0;32mIn[10], line 3\u001b[0;36m\u001b[0m\n\u001b[0;31m    class gym()\u001b[0m\n\u001b[0m               ^\u001b[0m\n\u001b[0;31mSyntaxError\u001b[0m\u001b[0;31m:\u001b[0m invalid syntax\n"
     ]
    }
   ],
   "source": [
    "#Task 1.1\n",
    "gym\n",
    "class gym"
   ]
  },
  {
   "cell_type": "code",
   "execution_count": null,
   "id": "691d1b05",
   "metadata": {},
   "outputs": [],
   "source": [
    "#Task 1.2"
   ]
  },
  {
   "cell_type": "code",
   "execution_count": null,
   "id": "209c0f57",
   "metadata": {},
   "outputs": [],
   "source": [
    "#Task 1.3"
   ]
  }
 ],
 "metadata": {
  "kernelspec": {
   "display_name": "Python 3 (ipykernel)",
   "language": "python",
   "name": "python3"
  },
  "language_info": {
   "codemirror_mode": {
    "name": "ipython",
    "version": 3
   },
   "file_extension": ".py",
   "mimetype": "text/x-python",
   "name": "python",
   "nbconvert_exporter": "python",
   "pygments_lexer": "ipython3",
   "version": "3.8.19"
  }
 },
 "nbformat": 4,
 "nbformat_minor": 5
}
