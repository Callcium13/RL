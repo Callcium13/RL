{
 "cells": [
  {
   "cell_type": "code",
   "execution_count": 2,
   "metadata": {},
   "outputs": [
    {
     "name": "stdout",
     "output_type": "stream",
     "text": [
      "Initial state {'chars': array([[32, 32, 32, ..., 32, 32, 32],\n",
      "       [32, 32, 32, ..., 32, 32, 32],\n",
      "       [32, 32, 32, ..., 32, 32, 32],\n",
      "       ...,\n",
      "       [32, 32, 32, ..., 32, 32, 32],\n",
      "       [32, 32, 32, ..., 32, 32, 32],\n",
      "       [32, 32, 32, ..., 32, 32, 32]], dtype=uint8)}\n",
      "Next State ({'chars': array([[32, 32, 32, ..., 32, 32, 32],\n",
      "       [32, 32, 32, ..., 32, 32, 32],\n",
      "       [32, 32, 32, ..., 32, 32, 32],\n",
      "       ...,\n",
      "       [32, 32, 32, ..., 32, 32, 32],\n",
      "       [32, 32, 32, ..., 32, 32, 32],\n",
      "       [32, 32, 32, ..., 32, 32, 32]], dtype=uint8)}, -1.0, False, {'end_status': <StepStatus.RUNNING: 0>, 'is_ascended': False})\n",
      "Initial state {'chars': array([[32, 32, 32, ..., 32, 32, 32],\n",
      "       [32, 32, 32, ..., 32, 32, 32],\n",
      "       [32, 32, 32, ..., 32, 32, 32],\n",
      "       ...,\n",
      "       [32, 32, 32, ..., 32, 32, 32],\n",
      "       [32, 32, 32, ..., 32, 32, 32],\n",
      "       [32, 32, 32, ..., 32, 32, 32]], dtype=uint8), 'pixel': array([[[0, 0, 0],\n",
      "        [0, 0, 0],\n",
      "        [0, 0, 0],\n",
      "        ...,\n",
      "        [0, 0, 0],\n",
      "        [0, 0, 0],\n",
      "        [0, 0, 0]],\n",
      "\n",
      "       [[0, 0, 0],\n",
      "        [0, 0, 0],\n",
      "        [0, 0, 0],\n",
      "        ...,\n",
      "        [0, 0, 0],\n",
      "        [0, 0, 0],\n",
      "        [0, 0, 0]],\n",
      "\n",
      "       [[0, 0, 0],\n",
      "        [0, 0, 0],\n",
      "        [0, 0, 0],\n",
      "        ...,\n",
      "        [0, 0, 0],\n",
      "        [0, 0, 0],\n",
      "        [0, 0, 0]],\n",
      "\n",
      "       ...,\n",
      "\n",
      "       [[0, 0, 0],\n",
      "        [0, 0, 0],\n",
      "        [0, 0, 0],\n",
      "        ...,\n",
      "        [0, 0, 0],\n",
      "        [0, 0, 0],\n",
      "        [0, 0, 0]],\n",
      "\n",
      "       [[0, 0, 0],\n",
      "        [0, 0, 0],\n",
      "        [0, 0, 0],\n",
      "        ...,\n",
      "        [0, 0, 0],\n",
      "        [0, 0, 0],\n",
      "        [0, 0, 0]],\n",
      "\n",
      "       [[0, 0, 0],\n",
      "        [0, 0, 0],\n",
      "        [0, 0, 0],\n",
      "        ...,\n",
      "        [0, 0, 0],\n",
      "        [0, 0, 0],\n",
      "        [0, 0, 0]]], dtype=uint8)}\n"
     ]
    },
    {
     "data": {
      "image/png": "[encoded data removed]",
      "text/plain": [
       "<Figure size 640x480 with 1 Axes>"
      ]
     },
     "metadata": {},
     "output_type": "display_data"
    },
    {
     "name": "stdout",
     "output_type": "stream",
     "text": [
      "Initial state [[64 46 46 46 46]\n",
      " [46 46 46 46 46]\n",
      " [46 46 46 46 46]\n",
      " [46 46 46 46 46]\n",
      " [46 46 46 46 62]]\n"
     ]
    },
    {
     "data": {
      "image/png": "[encoded data removed]",
      "text/plain": [
       "<Figure size 640x480 with 1 Axes>"
      ]
     },
     "metadata": {},
     "output_type": "display_data"
    }
   ],
   "source": [
    "import minihack_env as me\n",
    "import matplotlib.pyplot as plt\n",
    "import matplotlib as mpl\n",
    "import commons\n",
    "# mpl.use('MacOSX')   #uncomment this in some MacOSX machines for matplotlib\n",
    "\n",
    "# How to get a minihack environment from the minihack_env utility.\n",
    "id = me.EMPTY_ROOM\n",
    "env = me.get_minihack_envirnment(id)\n",
    "state = env.reset()\n",
    "print(\"Initial state\", state)\n",
    "next_state = env.step(1)\n",
    "print(\"Next State\", next_state)\n",
    "\n",
    "\n",
    "\n",
    "\n",
    "# How to get a minihack environment with also pixels states\n",
    "id = me.EMPTY_ROOM\n",
    "env = me.get_minihack_envirnment(id, add_pixel=True)\n",
    "state = env.reset()\n",
    "print(\"Initial state\", state)\n",
    "plt.imshow(state[\"pixel\"])\n",
    "plt.show()\n",
    "\n",
    "\n",
    "\n",
    "\n",
    "# Crop representations to non-empty part\n",
    "id = me.EMPTY_ROOM\n",
    "env = me.get_minihack_envirnment(id, add_pixel=True)\n",
    "state = env.reset()\n",
    "print(\"Initial state\", commons.get_crop_chars_from_observation(state))\n",
    "plt.imshow(commons.get_crop_pixel_from_observation(state))\n",
    "plt.show()"
   ]
  }
 ],
 "metadata": {
  "kernelspec": {
   "display_name": "base",
   "language": "python",
   "name": "python3"
  },
  "language_info": {
   "codemirror_mode": {
    "name": "ipython",
    "version": 3
   },
   "file_extension": ".py",
   "mimetype": "text/x-python",
   "name": "python",
   "nbconvert_exporter": "python",
   "pygments_lexer": "ipython3",
   "version": "3.8.19"
  }
 },
 "nbformat": 4,
 "nbformat_minor": 2
}
